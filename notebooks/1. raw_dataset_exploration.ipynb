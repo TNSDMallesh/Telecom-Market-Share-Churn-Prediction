{
 "cells": [
  {
   "cell_type": "code",
   "execution_count": 1,
   "id": "8b1e7621",
   "metadata": {},
   "outputs": [
    {
     "name": "stderr",
     "output_type": "stream",
     "text": [
      "C:\\Users\\MyPC\\AppData\\Local\\Temp\\ipykernel_11284\\2508284979.py:2: DtypeWarning: Columns (5) have mixed types. Specify dtype option on import or set low_memory=False.\n",
      "  df=pd.read_csv(r\"telecom_market_data.csv\")\n"
     ]
    }
   ],
   "source": [
    "import pandas as pd\n",
    "df=pd.read_csv(r\"telecom_market_data.csv\")"
   ]
  },
  {
   "cell_type": "code",
   "execution_count": 2,
   "id": "ee0ea4e6",
   "metadata": {},
   "outputs": [
    {
     "data": {
      "text/plain": [
       "year                   int64\n",
       "month                 object\n",
       "circle                object\n",
       "type_of_connection    object\n",
       "service_provider      object\n",
       "value                 object\n",
       "unit                  object\n",
       "notes                 object\n",
       "dtype: object"
      ]
     },
     "execution_count": 2,
     "metadata": {},
     "output_type": "execute_result"
    }
   ],
   "source": [
    "df.dtypes"
   ]
  },
  {
   "cell_type": "code",
   "execution_count": 3,
   "id": "cd5bd61c",
   "metadata": {},
   "outputs": [
    {
     "data": {
      "text/html": [
       "<div>\n",
       "<style scoped>\n",
       "    .dataframe tbody tr th:only-of-type {\n",
       "        vertical-align: middle;\n",
       "    }\n",
       "\n",
       "    .dataframe tbody tr th {\n",
       "        vertical-align: top;\n",
       "    }\n",
       "\n",
       "    .dataframe thead th {\n",
       "        text-align: right;\n",
       "    }\n",
       "</style>\n",
       "<table border=\"1\" class=\"dataframe\">\n",
       "  <thead>\n",
       "    <tr style=\"text-align: right;\">\n",
       "      <th></th>\n",
       "      <th>year</th>\n",
       "      <th>month</th>\n",
       "      <th>circle</th>\n",
       "      <th>type_of_connection</th>\n",
       "      <th>service_provider</th>\n",
       "      <th>value</th>\n",
       "      <th>unit</th>\n",
       "      <th>notes</th>\n",
       "    </tr>\n",
       "  </thead>\n",
       "  <tbody>\n",
       "    <tr>\n",
       "      <th>0</th>\n",
       "      <td>2025</td>\n",
       "      <td>April</td>\n",
       "      <td>Andhra Pradesh</td>\n",
       "      <td>wireless</td>\n",
       "      <td>Bharti Airtel (Including Tata Tele.)</td>\n",
       "      <td>33965795</td>\n",
       "      <td>value in absolute number</td>\n",
       "      <td>NaN</td>\n",
       "    </tr>\n",
       "    <tr>\n",
       "      <th>1</th>\n",
       "      <td>2025</td>\n",
       "      <td>April</td>\n",
       "      <td>Assam</td>\n",
       "      <td>wireless</td>\n",
       "      <td>Bharti Airtel (Including Tata Tele.)</td>\n",
       "      <td>12314102</td>\n",
       "      <td>value in absolute number</td>\n",
       "      <td>NaN</td>\n",
       "    </tr>\n",
       "    <tr>\n",
       "      <th>2</th>\n",
       "      <td>2025</td>\n",
       "      <td>April</td>\n",
       "      <td>Bihar</td>\n",
       "      <td>wireless</td>\n",
       "      <td>Bharti Airtel (Including Tata Tele.)</td>\n",
       "      <td>40967773</td>\n",
       "      <td>value in absolute number</td>\n",
       "      <td>NaN</td>\n",
       "    </tr>\n",
       "    <tr>\n",
       "      <th>3</th>\n",
       "      <td>2025</td>\n",
       "      <td>April</td>\n",
       "      <td>Delhi</td>\n",
       "      <td>wireless</td>\n",
       "      <td>Bharti Airtel (Including Tata Tele.)</td>\n",
       "      <td>18877637</td>\n",
       "      <td>value in absolute number</td>\n",
       "      <td>NaN</td>\n",
       "    </tr>\n",
       "    <tr>\n",
       "      <th>4</th>\n",
       "      <td>2025</td>\n",
       "      <td>April</td>\n",
       "      <td>Gujarat</td>\n",
       "      <td>wireless</td>\n",
       "      <td>Bharti Airtel (Including Tata Tele.)</td>\n",
       "      <td>12401101</td>\n",
       "      <td>value in absolute number</td>\n",
       "      <td>NaN</td>\n",
       "    </tr>\n",
       "  </tbody>\n",
       "</table>\n",
       "</div>"
      ],
      "text/plain": [
       "   year  month          circle type_of_connection  \\\n",
       "0  2025  April  Andhra Pradesh           wireless   \n",
       "1  2025  April           Assam           wireless   \n",
       "2  2025  April           Bihar           wireless   \n",
       "3  2025  April           Delhi           wireless   \n",
       "4  2025  April         Gujarat           wireless   \n",
       "\n",
       "                       service_provider     value                      unit  \\\n",
       "0  Bharti Airtel (Including Tata Tele.)  33965795  value in absolute number   \n",
       "1  Bharti Airtel (Including Tata Tele.)  12314102  value in absolute number   \n",
       "2  Bharti Airtel (Including Tata Tele.)  40967773  value in absolute number   \n",
       "3  Bharti Airtel (Including Tata Tele.)  18877637  value in absolute number   \n",
       "4  Bharti Airtel (Including Tata Tele.)  12401101  value in absolute number   \n",
       "\n",
       "  notes  \n",
       "0   NaN  \n",
       "1   NaN  \n",
       "2   NaN  \n",
       "3   NaN  \n",
       "4   NaN  "
      ]
     },
     "execution_count": 3,
     "metadata": {},
     "output_type": "execute_result"
    }
   ],
   "source": [
    "df.head()"
   ]
  },
  {
   "cell_type": "code",
   "execution_count": 4,
   "id": "641229ac",
   "metadata": {},
   "outputs": [
    {
     "name": "stdout",
     "output_type": "stream",
     "text": [
      "<class 'pandas.core.frame.DataFrame'>\n",
      "RangeIndex: 70728 entries, 0 to 70727\n",
      "Data columns (total 8 columns):\n",
      " #   Column              Non-Null Count  Dtype \n",
      "---  ------              --------------  ----- \n",
      " 0   year                70728 non-null  int64 \n",
      " 1   month               70728 non-null  object\n",
      " 2   circle              70728 non-null  object\n",
      " 3   type_of_connection  70728 non-null  object\n",
      " 4   service_provider    70728 non-null  object\n",
      " 5   value               58396 non-null  object\n",
      " 6   unit                70728 non-null  object\n",
      " 7   notes               511 non-null    object\n",
      "dtypes: int64(1), object(7)\n",
      "memory usage: 4.3+ MB\n"
     ]
    }
   ],
   "source": [
    "df.info()"
   ]
  },
  {
   "cell_type": "code",
   "execution_count": 5,
   "id": "08ab552b",
   "metadata": {},
   "outputs": [
    {
     "name": "stdout",
     "output_type": "stream",
     "text": [
      "April <class 'str'>\n",
      "March <class 'str'>\n",
      "February <class 'str'>\n",
      "January <class 'str'>\n",
      "December <class 'str'>\n",
      "November <class 'str'>\n",
      "October <class 'str'>\n",
      "September <class 'str'>\n",
      "August <class 'str'>\n",
      "July <class 'str'>\n",
      "June <class 'str'>\n",
      "May <class 'str'>\n",
      "Number of unique months before cleaning: 12\n"
     ]
    }
   ],
   "source": [
    "c=0\n",
    "for i in df['month'].unique():\n",
    "    print(i,type(i))\n",
    "    c+=1\n",
    "print('Number of unique months before cleaning:',c)"
   ]
  },
  {
   "cell_type": "code",
   "execution_count": null,
   "id": "afd3e89e",
   "metadata": {},
   "outputs": [
    {
     "name": "stdout",
     "output_type": "stream",
     "text": [
      "Andhra Pradesh <class 'str'>\n",
      "Assam <class 'str'>\n",
      "Bihar <class 'str'>\n",
      "Delhi <class 'str'>\n",
      "Gujarat <class 'str'>\n",
      "Haryana <class 'str'>\n",
      "Himachal Pradesh <class 'str'>\n",
      "Jammu and Kashmir <class 'str'>\n",
      "Karnataka <class 'str'>\n",
      "Kerala <class 'str'>\n",
      "Kolkata <class 'str'>\n",
      "Madhya Pradesh <class 'str'>\n",
      "Maharashtra <class 'str'>\n",
      "Mumbai <class 'str'>\n",
      "North East <class 'str'>\n",
      "Odisha <class 'str'>\n",
      "Punjab <class 'str'>\n",
      "Rajasthan <class 'str'>\n",
      "Tamil Nadu <class 'str'>\n",
      "Uttar Pradesh (East) <class 'str'>\n",
      "Uttar Pradesh (West) <class 'str'>\n",
      "West Bengal <class 'str'>\n",
      "All India <class 'str'>\n",
      "All india <class 'str'>\n",
      "Tamil Nadu (including Chennai) <class 'str'>\n",
      "Chennai <class 'str'>\n",
      "Andaman and Nicobar Islands <class 'str'>\n",
      "Arunachal Pradesh <class 'str'>\n",
      "Chhattisgarh <class 'str'>\n",
      "Jharkhand <class 'str'>\n",
      "Uttarakhand <class 'str'>\n",
      "North East 1 <class 'str'>\n",
      "North East 2 <class 'str'>\n",
      "North East2 <class 'str'>\n",
      "North East1 <class 'str'>\n",
      "Chattisgarh <class 'str'>\n",
      "Andaman and Nicobar <class 'str'>\n",
      "Uttaranchal <class 'str'>\n",
      "Number of unique circles before cleaning: 50\n"
     ]
    }
   ],
   "source": [
    "for i in df['circle'].unique():\n",
    "    print(i,type(i))\n",
    "    c+=1\n",
    "print('Number of unique circles before cleaning:',c)# have to remove the dupliacates and nan values"
   ]
  },
  {
   "cell_type": "code",
   "execution_count": 7,
   "id": "33739590",
   "metadata": {},
   "outputs": [
    {
     "name": "stdout",
     "output_type": "stream",
     "text": [
      "Bharti Airtel (Including Tata Tele.) <class 'str'>\n",
      "Reliance Communications <class 'str'>\n",
      "Vodafone Idea <class 'str'>\n",
      "BSNL <class 'str'>\n",
      "MTNL <class 'str'>\n",
      "Reliance Jio <class 'str'>\n",
      "BSNL (VNOs) <class 'str'>\n",
      "Bharti Airtel <class 'str'>\n",
      "Tata Teleservices <class 'str'>\n",
      "Vodafone <class 'str'>\n",
      "Idea <class 'str'>\n",
      "Telenor <class 'str'>\n",
      "Aircel <class 'str'>\n",
      "Sistema <class 'str'>\n",
      "Quadrant <class 'str'>\n",
      "Videocon <class 'str'>\n",
      "Telewings <class 'str'>\n",
      "Loop <class 'str'>\n",
      "Unitech <class 'str'>\n",
      "Aircel/Dishnet <class 'str'>\n",
      "Quadrant (HFCL) <class 'str'>\n",
      "S-Tel <class 'str'>\n",
      "Etisalat <class 'str'>\n",
      "Uninor <class 'str'>\n",
      "HFCL <class 'str'>\n",
      "Etisalat/Allianz <class 'str'>\n",
      "Idea/Spice <class 'str'>\n",
      "Vodafone Essar <class 'str'>\n",
      "Loop Telecom Pvt. Ltd. <class 'str'>\n",
      "HFCL Infotel <class 'str'>\n",
      "Sistema Shyam Teleservices Ltd <class 'str'>\n",
      "Spice <class 'str'>\n",
      "BPL Mobile <class 'str'>\n",
      "Tata Telecommunication <class 'str'>\n",
      "STPL <class 'str'>\n",
      "APSFL <class 'str'>\n",
      "V-CON Mobile & Infra Pvt. Ltd. <class 'str'>\n",
      "Bharti Airtel (including Tata Telecommunications) <class 'str'>\n",
      "Reliance <class 'str'>\n",
      "Tata <class 'str'>\n",
      "Teleservice Ltd. <class 'str'>\n",
      "Systema Shyam Teleservices Ltd. <class 'str'>\n",
      "Number of unique service providers before cleaning: 42\n"
     ]
    }
   ],
   "source": [
    "c=0\n",
    "for i in df['service_provider'].unique():\n",
    "    print(i,type(i))\n",
    "    c+=1\n",
    "print('Number of unique service providers before cleaning:',c)"
   ]
  },
  {
   "cell_type": "code",
   "execution_count": 8,
   "id": "0cc6945d",
   "metadata": {},
   "outputs": [
    {
     "name": "stdout",
     "output_type": "stream",
     "text": [
      "2025 <class 'numpy.int64'>\n",
      "2024 <class 'numpy.int64'>\n",
      "2023 <class 'numpy.int64'>\n",
      "2022 <class 'numpy.int64'>\n",
      "2021 <class 'numpy.int64'>\n",
      "2020 <class 'numpy.int64'>\n",
      "2019 <class 'numpy.int64'>\n",
      "2018 <class 'numpy.int64'>\n",
      "2017 <class 'numpy.int64'>\n",
      "2016 <class 'numpy.int64'>\n",
      "2015 <class 'numpy.int64'>\n",
      "2014 <class 'numpy.int64'>\n",
      "2013 <class 'numpy.int64'>\n",
      "2012 <class 'numpy.int64'>\n",
      "2011 <class 'numpy.int64'>\n",
      "2010 <class 'numpy.int64'>\n",
      "2009 <class 'numpy.int64'>\n",
      "Number of unique years before cleaning: 17\n"
     ]
    }
   ],
   "source": [
    "c=0\n",
    "for i in df['year'].unique():\n",
    "    print(i,type(i))\n",
    "    c+=1\n",
    "print('Number of unique years before cleaning:',c)"
   ]
  },
  {
   "cell_type": "code",
   "execution_count": null,
   "id": "d233f0a3",
   "metadata": {},
   "outputs": [
    {
     "data": {
      "text/plain": [
       "count     58396\n",
       "unique    47600\n",
       "top           0\n",
       "freq       5351\n",
       "Name: value, dtype: object"
      ]
     },
     "execution_count": 9,
     "metadata": {},
     "output_type": "execute_result"
    }
   ],
   "source": [
    "df['value'].describe()# have to clean the data by inserting 0 in place empty values or ' ' values"
   ]
  },
  {
   "cell_type": "code",
   "execution_count": 10,
   "id": "54b16269",
   "metadata": {},
   "outputs": [
    {
     "data": {
      "text/plain": [
       "count    70728.000000\n",
       "mean      2016.026298\n",
       "std          4.748129\n",
       "min       2009.000000\n",
       "25%       2012.000000\n",
       "50%       2016.000000\n",
       "75%       2020.000000\n",
       "max       2025.000000\n",
       "Name: year, dtype: float64"
      ]
     },
     "execution_count": 10,
     "metadata": {},
     "output_type": "execute_result"
    }
   ],
   "source": [
    "df['year'].describe()"
   ]
  }
 ],
 "metadata": {
  "kernelspec": {
   "display_name": "Python 3",
   "language": "python",
   "name": "python3"
  },
  "language_info": {
   "codemirror_mode": {
    "name": "ipython",
    "version": 3
   },
   "file_extension": ".py",
   "mimetype": "text/x-python",
   "name": "python",
   "nbconvert_exporter": "python",
   "pygments_lexer": "ipython3",
   "version": "3.10.0"
  }
 },
 "nbformat": 4,
 "nbformat_minor": 5
}
