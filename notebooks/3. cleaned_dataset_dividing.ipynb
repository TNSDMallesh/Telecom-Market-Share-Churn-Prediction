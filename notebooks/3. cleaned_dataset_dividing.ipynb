{
 "cells": [
  {
   "cell_type": "code",
   "execution_count": 7,
   "id": "811a2220",
   "metadata": {},
   "outputs": [],
   "source": [
    "import pandas as pd\n",
    "df=pd.read_csv(r\"cleaned_telecom_data.csv\")"
   ]
  },
  {
   "cell_type": "code",
   "execution_count": 8,
   "id": "99500a56",
   "metadata": {},
   "outputs": [
    {
     "data": {
      "text/plain": [
       "year                   int64\n",
       "month                 object\n",
       "circle                object\n",
       "type_of_connection    object\n",
       "service_provider      object\n",
       "value                  int64\n",
       "unit                  object\n",
       "notes                 object\n",
       "dtype: object"
      ]
     },
     "execution_count": 8,
     "metadata": {},
     "output_type": "execute_result"
    }
   ],
   "source": [
    "df.dtypes"
   ]
  },
  {
   "cell_type": "code",
   "execution_count": 9,
   "id": "011fb7d7",
   "metadata": {},
   "outputs": [
    {
     "name": "stdout",
     "output_type": "stream",
     "text": [
      "Total rows: 70728\n",
      "CSV files created:\n",
      "telecom_market_data_part1_10percent.csv → 7073 rows\n",
      "telecom_market_data_part2_10percent.csv → 7073 rows\n",
      "telecom_market_data_part3_80percent.csv → 56582 rows\n"
     ]
    }
   ],
   "source": [
    "import pandas as pd\n",
    "\n",
    "# Load your CSV\n",
    "# Total rows\n",
    "total_rows = len(df)\n",
    "print(\"Total rows:\", total_rows)\n",
    "\n",
    "# Calculate split sizes\n",
    "first_split = round(total_rows * 0.10)   # 10%\n",
    "second_split = round(total_rows * 0.10)  # another 10%\n",
    "\n",
    "# Perform splits\n",
    "df1 = df.iloc[:first_split]                          # first 10%\n",
    "df2 = df.iloc[first_split:first_split+second_split]  # next 10%\n",
    "df3 = df.iloc[first_split+second_split:]             # remaining 80%\n",
    "\n",
    "# Save outputs\n",
    "df1.to_csv(\"telecom_market_part1_data_10percent.csv\", index=False)\n",
    "df2.to_csv(\"telecom_market_part2_data_10percent.csv\", index=False)\n",
    "df3.to_csv(\"telecom_market_part3_data_80percent.csv\", index=False)\n",
    "\n",
    "print(\"CSV files created:\")\n",
    "print(\"telecom_market_data_part1_10percent.csv →\", len(df1), \"rows\")\n",
    "print(\"telecom_market_data_part2_10percent.csv →\", len(df2), \"rows\")\n",
    "print(\"telecom_market_data_part3_80percent.csv →\", len(df3), \"rows\")"
   ]
  }
 ],
 "metadata": {
  "kernelspec": {
   "display_name": "Python 3",
   "language": "python",
   "name": "python3"
  },
  "language_info": {
   "codemirror_mode": {
    "name": "ipython",
    "version": 3
   },
   "file_extension": ".py",
   "mimetype": "text/x-python",
   "name": "python",
   "nbconvert_exporter": "python",
   "pygments_lexer": "ipython3",
   "version": "3.10.0"
  }
 },
 "nbformat": 4,
 "nbformat_minor": 5
}
